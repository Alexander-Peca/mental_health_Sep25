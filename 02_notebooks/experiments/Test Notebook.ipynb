{
 "cells": [
  {
   "cell_type": "code",
   "execution_count": null,
   "id": "09874d7b",
   "metadata": {},
   "outputs": [],
   "source": [
    "# first notebook"
   ]
  }
 ],
 "metadata": {
  "language_info": {
   "name": "python"
  }
 },
 "nbformat": 4,
 "nbformat_minor": 5
}
